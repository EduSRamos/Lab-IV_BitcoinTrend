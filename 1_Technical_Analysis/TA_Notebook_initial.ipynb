{
 "cells": [
  {
   "cell_type": "markdown",
   "metadata": {},
   "source": [
    "# Sprint 1: Technical Analysis\n",
    "\n",
    "\n",
    "Fontes gerais:\n",
    "- https://www.investopedia.com/university/indicator_oscillator/\n",
    "- https://www.investopedia.com/walkthrough/forex/\n",
    "- https://www.investopedia.com/university/technical/\n",
    "\n",
    "\n",
    "## Docstrings\n",
    "https://www.python.org/dev/peps/pep-0257/\n",
    "\n",
    "## Indice\n",
    "1. [SMA](#SMA): Simple Moving Average\n",
    "    1. [Strategy](#SMA_Strategy): Double-crossover SMA<br><br>\n",
    "2. [EMA](#EMA): Exponential Moving Average\n",
    "    1. [Strategy](#EMA_Strategy): Triple crossover EMA / Moving Average Exponential Ribbon<br><br>\n",
    "3. [BB](#BB): Bollinger Bands\n",
    "    1. [Strategy](#BB_Strategy): Band violation<br><br>\n",
    "4. [MACD](#MACD): Moving Average Convergence/Divergence Oscillator\n",
    "    1. [Strategy](#MACD_Strategy): Signal line crossover<br><br>\n",
    "5. [STOCH](#STOCH): Stochastic Oscillator\n",
    "    1. [Strategy](#STOCH_Strategy): Overbought/oversold signal with K line<br><br>\n",
    "6. [RSI](#RSI): Relative Strength Index\n",
    "    1. [Strategy](#RSI_Strategy): Overbought/oversold signals<br><br>\n",
    "7. [CHAIKIN](#CHAIKIN): Chaikin Oscillator\n",
    "    1. [Strategy](#CHAIKIN_Strategy): Zer0 line crossing<br><br>\n",
    "8. [AROON](#AROON): Aroon Indicator/Oscillator\n",
    "    1. [Strategy](#AROON_Strategy): Overbought/oversold signals<br><br>\n",
    "\n",
    "### Implementados sem estrategia\n",
    "- WMA\n",
    "- OBV"
   ]
  },
  {
   "cell_type": "markdown",
   "metadata": {},
   "source": [
    "Referencia 1\n",
    "----\n",
    "Fonte: \n",
    "- https://www.investopedia.com/university/indicator_oscillator/\n",
    "- https://www.investopedia.com/university/technical/techanalysis10.asp#ixzz5CrkfDwoF\n",
    "\n",
    "Technical analysis is broken into two main categories, **chart patterns** and **indicators**. Indicators are essentially calculations based on the price and the volume of a security and measures factors such as **money flow, trends, volatility and momentum**.\n",
    "\n",
    "*Obs.: usaremos apenas indicators aqui*\n",
    "\n",
    "Indicators represent a statistical approach to technical analysis as opposed to a subjective approach. By looking at money flow, trends, volatility, and momentum, they provide a secondary measure to actual price movements and help traders confirm the quality of chart patterns or form their own buy or sell signals.\n",
    "\n",
    "### Leading vs lagging indicators\n",
    "There are two primary types of indicators:\n",
    "\n",
    "1. Leading Indicators. Leading indicators precede price movements and try to predict the future. These indicators are most helpful during periods of sideways or non-trending price movements since they can help identify breakouts or breakdowns.\n",
    "2. Lagging Indicators. Lagging indicators follow price movements and act as a confirmation tool. These indicators are most useful during trending periods where they can be used to confirm that a trend is still in placing or if it’s weakening.\n",
    "\n",
    "#### Leading\n",
    "The two most common are [RSI](#RSI) and [Stochastic Oscillator](#STOCH). The majority of leading indicators are oscillators. \n",
    "\n",
    "\n",
    "### Oscillators vs non-bounded\n",
    "Indicators can be further divided into two categories based on how they’re built:\n",
    "\n",
    "1. Oscillator. Oscillators are the most common type of technical indicator and are generally bound within a range. For example, an oscillator may have a low of 0 and a high of 100 where zero represents oversold conditions and 100 represents overbought conditions.\n",
    "2. Non-bounded. Non-bounded indicators are less common, but still help form buy and sell signals as well as show strength or weakness in trends. However, they accomplish this in many ways without the use of a set range.\n",
    "\n",
    "### How indicators are used\n",
    "Indicators generate buy and sell signals through **crossovers or divergence**. Crossovers are the most popular technique whereby the price moves through a moving average or when two moving averages crossover. Divergence occurs when the direction of a price trend and the direction of an indicator are moving in opposite directions, which tends to suggest that the direction of the price trend is weakening.\n",
    "\n",
    "#### Crossovers\n",
    "Crossovers occur when the indicator moves through an important level or a moving average of the indicator. It signals that the trend in the indicator is shifting and that this trend shift will lead to a certain movement in the price of the underlying security.\n",
    "\n",
    "#### Divergences\n",
    "The second way indicators are used is through divergence, which was shown in the example of IBM above. Divergence occurs when the direction of the price trend and the direction of the indicator trend are moving in the opposite direction. This signals that the direction of the price trend may be weakening as the underlying momentum is changing.\n",
    "\n",
    "There are two types of divergence - positive and negative. Positive divergence occurs when the indicator is trending upward while the security is trending downward. Negative is the opposite."
   ]
  },
  {
   "cell_type": "markdown",
   "metadata": {},
   "source": [
    "## <span style=\"color:red\">0.</span> Imports"
   ]
  },
  {
   "cell_type": "code",
   "execution_count": null,
   "metadata": {},
   "outputs": [],
   "source": [
    "import os\n",
    "import numpy as np\n",
    "import pandas as pd\n",
    "import pickle # for serializing and de-serializing a Python object structure.\n",
    "from datetime import datetime\n",
    "\n",
    "import quandl\n",
    "\n",
    "import plotly.offline as py\n",
    "import plotly.graph_objs as go\n",
    "import plotly.figure_factory as ff\n",
    "from plotly import tools\n",
    "py.init_notebook_mode(connected=True)"
   ]
  },
  {
   "cell_type": "markdown",
   "metadata": {},
   "source": [
    "## <span style=\"color:red\">0.</span> Leitura de Dados do Bitcoin"
   ]
  },
  {
   "cell_type": "code",
   "execution_count": null,
   "metadata": {
    "scrolled": true
   },
   "outputs": [],
   "source": [
    "data_path = '../Data/Bitcoin_data.pkl'\n",
    "with open(data_path, 'rb') as f:\n",
    "    btc_data = pickle.load(f)"
   ]
  },
  {
   "cell_type": "code",
   "execution_count": null,
   "metadata": {},
   "outputs": [],
   "source": [
    "btc_data"
   ]
  },
  {
   "cell_type": "markdown",
   "metadata": {},
   "source": [
    "Referencia do Plotly\n",
    "----\n",
    "1. Criar um trace, por exemplo:\n",
    "    1. `trace = go.Scatter(x=..., y=..., name=...)`\n",
    "    2. `trace = go.Candlestick(x=..., open=..., high=..., low=..., close=..., name=...)`\n",
    "        1. `x` : normalmente a data (`btc_data.index`)\n",
    "        2. `y` / `open,high,low,close` : valores\n",
    "        3. `name` : nome da linha (ira aparecer na legenda)\n",
    "\n",
    "Apos criar os traces:\n",
    "\n",
    "1. Plot em um mesmo grafico\n",
    "    1. `data = [trace_1, trace_2,...]`\n",
    "    2. `layout = go.Layout( ... )`, em que se costuma modificar\n",
    "        1. `title = '...'`: titulo do plot\n",
    "        2. `legend = dict(orientation:'...')`, no qual `h/v` = horizontal/vertical\n",
    "        3. `xaxis = dict( ... )`, em que se costuma modificar\n",
    "            1. `title = '...'`: titulo do eixo\n",
    "            2. `rangeselector = dict(buttons=list([dict(count=1,label='1m',step='month',stepmode='backward'), ...,]))`\n",
    "    3. `fig = go.Figure(data=data, layout=layout)`\n",
    "    4. `py.iplot(fig)`<br><br>\n",
    "    \n",
    "2. Utilizando subplots (e.g., candlestick em um, indicador em outro)\n",
    "    1. `fig = tools.make_subplots(rows=..., cols=..., shared_xaxes=True)`\n",
    "    2. `fig.append_trace(<trace>,<row>,<col>)`\n",
    "    3. `fig['layout'].update(title='...', legend=dict(orientation='...'), height=...)`\n",
    "    4. `py.iplot(fig)` <br><br>\n",
    "    \n",
    "3. Falta mencionar `rangeselection`"
   ]
  },
  {
   "cell_type": "code",
   "execution_count": null,
   "metadata": {},
   "outputs": [],
   "source": [
    "default_scatter_layout = go.Layout(title='Default Scatter',\n",
    "                                   legend={'orientation':'h'},\n",
    "                                   yaxis={'title':'Preco'}\n",
    ")\n",
    "default_candle_layout = go.Layout(title='Default Candlestick',\n",
    "                                  legend={'orientation':'h'},\n",
    "                                  yaxis={'title':'Preco'},\n",
    "                                  xaxis={'rangeselector':{'buttons':list([{'count':1,\n",
    "                                                                          'label':'1m',\n",
    "                                                                          'step':'month',\n",
    "                                                                          'stepmode':'backward'},\n",
    "                                                                          {'count':6,\n",
    "                                                                          'label':'6m',\n",
    "                                                                          'step':'month',\n",
    "                                                                          'stepmode':'backward'},\n",
    "                                                                          {'count':1,\n",
    "                                                                          'label':'1y',\n",
    "                                                                          'step':'year',\n",
    "                                                                          'stepmode':'backward'},\n",
    "                                                                          {'step':'all'},\n",
    "                                                                         ])\n",
    "                                                         }\n",
    "                                        }\n",
    ")"
   ]
  },
  {
   "cell_type": "code",
   "execution_count": null,
   "metadata": {},
   "outputs": [],
   "source": [
    "# Dicionarios para plot\n",
    "btc_price_trace = go.Scatter(x=btc_data.index, \n",
    "                             y=btc_data['Weighted Price'], \n",
    "                             name='Preco diario'\n",
    ")\n",
    "btc_candlestick_trace = go.Candlestick(x=btc_data.index, \n",
    "                                       open=btc_data['Open'], \n",
    "                                       high=btc_data['High'], \n",
    "                                       low=btc_data['Low'], \n",
    "                                       close=btc_data['Close'], \n",
    "                                       name='Preco diario'\n",
    ")"
   ]
  },
  {
   "cell_type": "code",
   "execution_count": null,
   "metadata": {},
   "outputs": [],
   "source": [
    "btc_scatter_plot_data = [btc_price_trace]\n",
    "btc_scatter_plot_layout = go.Layout(title='Bitcoin Price', \n",
    "                                    legend={'orientation':'h'}, \n",
    "                                    xaxis={'title':'Data'},\n",
    "                                    yaxis={'title':'Preco'}\n",
    ")"
   ]
  },
  {
   "cell_type": "code",
   "execution_count": null,
   "metadata": {},
   "outputs": [],
   "source": [
    "btc_candle_plot_data = [btc_candlestick_trace]\n",
    "btc_candle_plot_layout = go.Layout(title='Bitcoin Candlestick',\n",
    "                                   legend=dict(orientation='h'),\n",
    "                                   xaxis=dict(title='Data',\n",
    "                                              rangeselector=dict(buttons=list([dict(count=1,\n",
    "                                                                                    label='1m',\n",
    "                                                                                    step='month',\n",
    "                                                                                    stepmode='backward'),\n",
    "                                                                               dict(count=1,\n",
    "                                                                                    label='1y',\n",
    "                                                                                    step='year',\n",
    "                                                                                    stepmode='backward'),\n",
    "                                                                               dict(step='all') \n",
    "                                                                              ]) \n",
    "                                                                ), \n",
    "                                             ),\n",
    "                                   yaxis=dict(title='Preco')\n",
    ")"
   ]
  },
  {
   "cell_type": "code",
   "execution_count": null,
   "metadata": {},
   "outputs": [],
   "source": [
    "fig = go.Figure(data=btc_scatter_plot_data, layout=btc_scatter_plot_layout)\n",
    "py.iplot(fig)\n",
    "\n",
    "fig = go.Figure(data=btc_candle_plot_data, layout=btc_candle_plot_layout)\n",
    "py.iplot(fig)"
   ]
  },
  {
   "cell_type": "markdown",
   "metadata": {},
   "source": [
    "<a id=\"SMA\"></a>\n",
    "\n",
    "## <span style=\"color:red\">1.1.</span> SMA: Simple Moving Average\n",
    "\n",
    "Fonte: http://stockcharts.com/school/doku.php?id=chart_school:technical_indicators:moving_averages\n"
   ]
  },
  {
   "cell_type": "code",
   "execution_count": null,
   "metadata": {},
   "outputs": [],
   "source": [
    "# Simple Moving Average\n",
    "def SMA(df_arr, window, col_name='Weighted Price'):\n",
    "    \"\"\"Calcula a Simple Moving Average.\n",
    "\n",
    "    Keyword arguments:\n",
    "    df_arr -- DataFrame ou um array de valores\n",
    "    window -- Janela de tempo \n",
    "    col_name -- Nome da coluna com os valores (default: Weighted Price)\n",
    "    \"\"\"\n",
    "    if isinstance(df_arr, pd.DataFrame):\n",
    "        values = df_arr[col_name]\n",
    "    else:\n",
    "        values = df_arr\n",
    "        \n",
    "    weights = np.repeat(1.0, window)/window\n",
    "    \n",
    "    if isinstance(df_arr, pd.DataFrame):\n",
    "        sma = pd.DataFrame(data=np.convolve(values, weights, 'valid'), \n",
    "                           index=df_arr.index[window-1:],\n",
    "                           columns=['SMA']\n",
    "                          )\n",
    "    else:\n",
    "        sma = np.convolve(values, weights, 'valid')\n",
    "    return sma"
   ]
  },
  {
   "cell_type": "code",
   "execution_count": null,
   "metadata": {},
   "outputs": [],
   "source": [
    "sma_5 = SMA(btc_data, 5)\n",
    "sma_30 = SMA(btc_data, 30)\n",
    "sma_90 = SMA(btc_data, 90)"
   ]
  },
  {
   "cell_type": "code",
   "execution_count": null,
   "metadata": {},
   "outputs": [],
   "source": [
    "sma_5_trace = go.Scatter(x=sma_5.index, y=sma_5['SMA'], name='5-day SMA')\n",
    "sma_30_trace = go.Scatter(x=sma_30.index, y=sma_30['SMA'], name='30-day SMA')\n",
    "sma_90_trace = go.Scatter(x=sma_90.index, y=sma_90['SMA'], name='90-day SMA')"
   ]
  },
  {
   "cell_type": "code",
   "execution_count": null,
   "metadata": {},
   "outputs": [],
   "source": [
    "sma_plot_data = [btc_price_trace, sma_5_trace, sma_30_trace, sma_90_trace]\n",
    "sma_plot_layout = go.Layout(title='Exemplo: SMA', \n",
    "                            legend={'orientation':'h'}, \n",
    "                            yaxis={'title':'Preco'}\n",
    ")\n",
    "fig = go.Figure(data=sma_plot_data, layout=sma_plot_layout)\n",
    "py.iplot(fig)"
   ]
  },
  {
   "cell_type": "markdown",
   "metadata": {},
   "source": [
    "<a id=\"SMA_Strategy\"></a>\n",
    "\n",
    "## <span style=\"color:red\">1.2.</span> SMA: Trading Strategy\n",
    "\n",
    "- 50 and 200-day crossover"
   ]
  },
  {
   "cell_type": "markdown",
   "metadata": {},
   "source": [
    "<a id=\"EMA\"></a>\n",
    "\n",
    "## <span style=\"color:red\">2.1.</span> EMA: Exponential Moving Average\n",
    "\n",
    "Fonte: http://stockcharts.com/school/doku.php?id=chart_school:technical_indicators:moving_averages"
   ]
  },
  {
   "cell_type": "code",
   "execution_count": null,
   "metadata": {},
   "outputs": [],
   "source": [
    "# Exponential Moving Average\n",
    "def EMA(df_arr, window, col_name='Weighted Price'):\n",
    "    \"\"\"Calcula a Exponential Moving Average.\n",
    "\n",
    "    Keyword arguments:\n",
    "    df_arr -- DataFrame com uma coluna 'Weighted Price' ou um array de valores \n",
    "    window -- janela de tempo \n",
    "    col_name -- Nome da coluna com os valores no caso de um dataframe (default: Weighted Price)\n",
    "    \"\"\"\n",
    "    if isinstance(df_arr, pd.DataFrame):\n",
    "        values = df_arr[col_name]\n",
    "    else:\n",
    "        values = df_arr\n",
    "        \n",
    "    weight = 2.0/(1+window)\n",
    "    ema_arr = np.zeros(len(values)-window+1)\n",
    "    ema_arr[0] = np.mean(values[:window]) # SMA seed\n",
    "    for i in np.arange(1, len(ema_arr)):\n",
    "        ema_arr[i] = weight*values[i+window-1] + (1-weight)*ema_arr[i-1]\n",
    "        \n",
    "    if isinstance(df_arr, pd.DataFrame):\n",
    "        ema = pd.DataFrame(data=ema_arr, index=df_arr.index[window-1:], columns=['EMA'])\n",
    "    else:\n",
    "        ema = ema_arr\n",
    "    return ema"
   ]
  },
  {
   "cell_type": "code",
   "execution_count": null,
   "metadata": {},
   "outputs": [],
   "source": [
    "ema_5 = EMA(btc_data, 5)\n",
    "ema_30 = EMA(btc_data, 30)\n",
    "ema_90 = EMA(btc_data, 90)"
   ]
  },
  {
   "cell_type": "code",
   "execution_count": null,
   "metadata": {},
   "outputs": [],
   "source": [
    "ema_5_trace = go.Scatter(x=ema_5.index, y=ema_5['EMA'], name='5-day EMA')\n",
    "ema_30_trace = go.Scatter(x=ema_30.index, y=ema_30['EMA'], name='30-day EMA')\n",
    "ema_90_trace = go.Scatter(x=ema_90.index, y=ema_90['EMA'], name='90-day EMA')"
   ]
  },
  {
   "cell_type": "code",
   "execution_count": null,
   "metadata": {},
   "outputs": [],
   "source": [
    "ema_plot_data = [btc_price_trace, ema_5_trace, ema_30_trace, ema_90_trace]\n",
    "ema_plot_layout = default_scatter_layout\n",
    "ema_plot_layout['title']='Exemplo: EMA'\n",
    "fig = go.Figure(data=ema_plot_data, layout=ema_plot_layout)\n",
    "py.iplot(fig)"
   ]
  },
  {
   "cell_type": "markdown",
   "metadata": {},
   "source": [
    "<a id=\"EMA_Strategy\"></a>\n",
    "\n",
    "##  <span style=\"color:red\">2.2.</span> EMA: Trading Strategy\n",
    "\n",
    "- 5/35-day crossover\n",
    "- Moving Average Exponential Ribbon (c/ tipo 4)"
   ]
  },
  {
   "cell_type": "markdown",
   "metadata": {},
   "source": [
    "<a id=\"BB\"></a>\n",
    "\n",
    "##  <span style=\"color:red\">3.1.</span> BB: Bollinger Bands\n",
    "\n",
    "Fontes: \n",
    "- http://stockcharts.com/school/doku.php?id=chart_school:technical_indicators:bollinger_bands\n",
    "- https://www.investopedia.com/walkthrough/forex/intermediate/level4/bollinger-bands.aspx"
   ]
  },
  {
   "cell_type": "code",
   "execution_count": null,
   "metadata": {},
   "outputs": [],
   "source": [
    "def BB(df, col_name='Weighted Price'):\n",
    "    \"\"\"Calcula as Bollinger Bands.\n",
    "\n",
    "    Keyword arguments:\n",
    "    df -- DataFrame com uma coluna 'Weighted Price'\n",
    "    col_name -- Nome da coluna com os valores (default: Weighted Price)\n",
    "    \"\"\"\n",
    "    middle_band = SMA(df, 20)['SMA']\n",
    "    sd_20 = np.zeros(len(middle_band))\n",
    "    for i in np.arange(20,len(df)+1):\n",
    "        sd_20[i-20] = np.std(df[col_name].values[i-20:i])\n",
    "\n",
    "    bb_dict = {'Middle Band': middle_band,\n",
    "               'Top Band': (middle_band + 2*sd_20),\n",
    "               'Bottom Band': (middle_band - 2*sd_20)\n",
    "              }\n",
    "    bb = pd.DataFrame(data=bb_dict, index=df.index[19:])\n",
    "    return bb"
   ]
  },
  {
   "cell_type": "code",
   "execution_count": null,
   "metadata": {},
   "outputs": [],
   "source": [
    "bb = BB(btc_data)"
   ]
  },
  {
   "cell_type": "code",
   "execution_count": null,
   "metadata": {},
   "outputs": [],
   "source": [
    "bb_bottom_trace = go.Scatter(x=bb.index, y=bb['Bottom Band'], name='Bottom Band')\n",
    "bb_middle_trace = go.Scatter(x=bb.index, y=bb['Middle Band'], name='Middle Band')\n",
    "bb_top_trace = go.Scatter(x=bb.index, y=bb['Top Band'], name='Top Band')"
   ]
  },
  {
   "cell_type": "code",
   "execution_count": null,
   "metadata": {},
   "outputs": [],
   "source": [
    "bb_plot_data = [btc_price_trace, bb_bottom_trace, bb_middle_trace, bb_top_trace]\n",
    "bb_plot_layout = default_scatter_layout\n",
    "bb_plot_layout['title'] = 'Exemplo: Bollinger Bands'\n",
    "fig = go.Figure(data=bb_plot_data, layout=bb_plot_layout)\n",
    "py.iplot(fig)"
   ]
  },
  {
   "cell_type": "markdown",
   "metadata": {},
   "source": [
    "<a id=\"BB_Strategy\"></a>\n",
    "\n",
    "##  <span style=\"color:red\">3.2.</span> BB: Trading Strategy\n",
    "\n",
    "- https://tradingsim.com/blog/bollinger-bands/\n",
    "- Preco atual toca uma das bandas"
   ]
  },
  {
   "cell_type": "code",
   "execution_count": null,
   "metadata": {},
   "outputs": [],
   "source": [
    "btc_data"
   ]
  },
  {
   "cell_type": "code",
   "execution_count": null,
   "metadata": {},
   "outputs": [],
   "source": [
    "change_price = btc_data.diff()[['Weighted Price']].dropna()\n",
    "change_sign = np.sign(change_price)\n",
    "btc_data_bb = btc_data.assign(change_price = change_price, change_sign=change_sign)\n",
    "btc_data_bb = btc_data_bb.join([bb]).dropna()"
   ]
  },
  {
   "cell_type": "code",
   "execution_count": null,
   "metadata": {},
   "outputs": [],
   "source": [
    "def bb_predict_standart(row):\n",
    "    if(row['Weighted Price'] >= row['Top Band']):\n",
    "        return 1\n",
    "    if(row['Weighted Price'] <= row['Bottom Band']):\n",
    "        return -1\n",
    "    return 0\n",
    "    \n",
    "def bb_predict(df, stategy = 'standart'):\n",
    "    result = df.apply(bb_predict_standart, axis = 1)\n",
    "    return result\n",
    "\n",
    "btc_data_bb['predict'] = bb_predict( btc_data_bb)"
   ]
  },
  {
   "cell_type": "code",
   "execution_count": null,
   "metadata": {},
   "outputs": [],
   "source": [
    "print( 'Estatégia standart' )\n",
    "n_acertos = np.sum(btc_data_bb['predict'] == btc_data_bb['change_sign'])\n",
    "n_obs = btc_data_bb.shape[0]\n",
    "n_obs_cor = np.sum( btc_data_bb['predict'] != 0.0 )\n",
    "perc_acertos = 100 * ( n_acertos / n_obs)\n",
    "perc_acertos_cor = 100 *  ( n_acertos / n_obs_cor)\n",
    "print('Acertos = ', n_acertos )\n",
    "print('Porcentagem de Acertos Totais = ', perc_acertos )\n",
    "print('Porcentagem de Acertos Corrgidos = ', perc_acertos_cor )"
   ]
  },
  {
   "cell_type": "markdown",
   "metadata": {},
   "source": [
    "<a id=\"MACD\"></a>\n",
    "\n",
    "## <span style=\"color:red\">4.1</span> MACD: Moving Average Convergence/Divergence Oscillator\n",
    "\n",
    "Fontes: \n",
    "- http://stockcharts.com/school/doku.php?id=chart_school:technical_indicators:moving_average_convergence_divergence_macd\n",
    "- https://www.investopedia.com/terms/m/macd.asp\n",
    "- https://traderhq.com/ultimate-guide-to-the-macd-indicator/"
   ]
  },
  {
   "cell_type": "code",
   "execution_count": null,
   "metadata": {},
   "outputs": [],
   "source": [
    "def MACD(df, col_name='Weighted Price'):\n",
    "    \"\"\"Calcula a MACD.\n",
    "\n",
    "    Keyword arguments:\n",
    "    df -- DataFrame com uma coluna 'Weighted Price'\n",
    "    col_name -- Nome da coluna com os valores (default: Weighted Price)\n",
    "    \"\"\"\n",
    "    values = np.array(df[col_name].values)\n",
    "    ema_26 = EMA(values, 26)\n",
    "    ema_12 = EMA(values, 12)\n",
    "    \n",
    "    macd_line = ema_12[14:] - ema_26\n",
    "    signal_line = EMA(macd_line, 9)\n",
    "    macd_line = macd_line[8:]\n",
    "    macd_hist = macd_line - signal_line\n",
    "    \n",
    "    macd_dict = {'MACD Line':macd_line, 'Signal Line':signal_line, 'MACD Histogram':macd_hist}\n",
    "    macd = pd.DataFrame(data=macd_dict, index=df.index[-len(macd_line):])\n",
    "    return macd"
   ]
  },
  {
   "cell_type": "code",
   "execution_count": null,
   "metadata": {},
   "outputs": [],
   "source": [
    "macd = MACD(btc_data)\n",
    "macd"
   ]
  },
  {
   "cell_type": "code",
   "execution_count": null,
   "metadata": {},
   "outputs": [],
   "source": [
    "macd_line_trace = go.Scatter(x=macd.index, y=macd['MACD Line'], name='MACD Line')\n",
    "signal_line_trace = go.Scatter(x=macd.index, y=macd['Signal Line'], name='Signal Line')\n",
    "macd_hist_trace = go.Scatter(x=macd.index, y=macd['MACD Histogram'], name='MACD Histogram')"
   ]
  },
  {
   "cell_type": "code",
   "execution_count": null,
   "metadata": {},
   "outputs": [],
   "source": [
    "fig = tools.make_subplots(rows=2, cols=1, shared_xaxes=True)\n",
    "fig.append_trace(btc_candlestick_trace, 1, 1)\n",
    "fig.append_trace(macd_line_trace, 2, 1)\n",
    "fig.append_trace(signal_line_trace, 2, 1)\n",
    "fig.append_trace(macd_hist_trace, 2, 1)\n",
    "fig.layout.update(title='Exemplo: MACD', legend=dict(orientation='v'))\n",
    "fig['layout']['xaxis1']['rangeselector'] = default_candle_layout['xaxis']['rangeselector']\n",
    "py.iplot(fig)"
   ]
  },
  {
   "cell_type": "markdown",
   "metadata": {},
   "source": [
    "<a id=\"MACD_Strategy\"></a>\n",
    "\n",
    "## <span style=\"color:red\">4.2.</span> MACD: Trading Strategy\n",
    "\n",
    "- MACD: just signal line crossover (MACD line moves above the signal line). Optional: do not open any long/short positions when the MACD is below/above the zero line. Optional 2: As long as the MACD lines are above 0 and price is above the 12 and 26 EMAs, the trend is still going on.\n",
    "- Pode usar com STOCH"
   ]
  },
  {
   "cell_type": "markdown",
   "metadata": {},
   "source": [
    "<a id=\"STOCH\"></a>\n",
    "\n",
    "## <span style=\"color:red\">5.1.</span> STOCH: Stochastic Oscillator\n",
    "\n",
    "Fontes:\n",
    "- http://stockcharts.com/school/doku.php?id=chart_school:technical_indicators:stochastic_oscillator_fast_slow_and_full\n",
    "- https://www.investopedia.com/terms/s/stochasticoscillator.asp\n"
   ]
  },
  {
   "cell_type": "code",
   "execution_count": null,
   "metadata": {},
   "outputs": [],
   "source": [
    "def STOCH(df,col_names={'High':'High','Low':'Low','Close':'Close'}):\n",
    "    \"\"\"Calcula o Stochastic Oscillator.\n",
    "\n",
    "    Keyword arguments:\n",
    "    df -- DataFrame com colunas com dados de 'High', 'Low' e 'Close'\n",
    "    col_names -- Dicionario com nomes das colunas com High/Low/Close (default:'High'/'Low'/'Close')\n",
    "    \"\"\"\n",
    "    # Lowest Low e Highest High: ultimos 14 dias (hoje incluido)\n",
    "    # %K = (Current Close - Lowest Low)/(Highest High - Lowest Low) * 100\n",
    "    # %D = 3-day SMA of %K\n",
    "    highest_arr = np.zeros(len(df)-13)\n",
    "    lowest_arr = np.zeros(len(df)-13)\n",
    "    for i in np.arange(13,len(df)):\n",
    "        highest_arr[i-13] = np.max(df[col_names['High']][i-13:i+1])\n",
    "        lowest_arr[i-13] = np.min(df[col_names['Low']][i-13:i+1])\n",
    "    highest = pd.Series(data=highest_arr, index=df.index[13:])\n",
    "    lowest = pd.Series(data=lowest_arr, index=df.index[13:])\n",
    "    \n",
    "    K_ser = (df[col_names['Close']][13:] - lowest)/(highest-lowest) * 100\n",
    "    D_arr = EMA(K_ser.values, 3)\n",
    "    \n",
    "    stoch_dict = {'%K': K_ser, '%D':D_arr}\n",
    "    stoch = pd.DataFrame(data=stoch_dict, index=K_ser.index[2:])\n",
    "    return stoch"
   ]
  },
  {
   "cell_type": "code",
   "execution_count": null,
   "metadata": {},
   "outputs": [],
   "source": [
    "stoch = STOCH(btc_data)"
   ]
  },
  {
   "cell_type": "code",
   "execution_count": null,
   "metadata": {
    "scrolled": true
   },
   "outputs": [],
   "source": [
    "stoch_K_trace = go.Scatter(x=stoch.index, y=stoch['%K'], name='%K')\n",
    "stoch_D_trace = go.Scatter(x=stoch.index, y=stoch['%D'], name='%D')"
   ]
  },
  {
   "cell_type": "code",
   "execution_count": null,
   "metadata": {},
   "outputs": [],
   "source": [
    "fig = tools.make_subplots(rows=2, cols=1, shared_xaxes=True)\n",
    "fig.append_trace(btc_price_trace, 1, 1)\n",
    "fig.append_trace(stoch_K_trace, 2, 1)\n",
    "fig.append_trace(stoch_D_trace, 2, 1)\n",
    "fig.layout.update(title='Exemplo: STOCH', legend=dict(orientation='h'))\n",
    "py.iplot(fig)"
   ]
  },
  {
   "cell_type": "markdown",
   "metadata": {},
   "source": [
    "<a id=\"STOCH_Strategy\"></a>\n",
    "\n",
    "## <span style=\"color:red\">5.2.</span> STOCH: Trading Strategy\n",
    "\n",
    "- Stochastic: When the K line drops below 20, the stock is oversold, and it indicates a buying signal. If the K peaks just below 100 then retreats, the stock should be sold before the value drops below 80. And generally, when the K value rises above the D, it’s a buy signal as long as the values are below 80. If they are higher than 80, the security is overbought.\n",
    "- Pode usar com MACD"
   ]
  },
  {
   "cell_type": "markdown",
   "metadata": {},
   "source": [
    "<a id=\"RSI\"></a>\n",
    "\n",
    "## <span style=\"color:red\">6.1.</span> RSI: Relative Strength Index\n",
    "\n",
    "Fontes:\n",
    "- http://stockcharts.com/school/doku.php?id=chart_school:technical_indicators:relative_strength_index_rsi\n",
    "- https://www.investopedia.com/terms/r/rsi.asp\n",
    "- https://www.fidelity.com/learning-center/trading-investing/technical-analysis/technical-indicator-guide/RSI\n"
   ]
  },
  {
   "cell_type": "code",
   "execution_count": null,
   "metadata": {},
   "outputs": [],
   "source": [
    "def RSI(df, col_name='Weighted Price'):\n",
    "    \"\"\"Calcula o Relative Strength Index.\n",
    "\n",
    "    Keyword arguments:\n",
    "    df -- DataFrame com uma coluna chamada 'Weighted Price'\n",
    "    col_name -- Nome da coluna com os valores (default: Weighted Price)\n",
    "    \"\"\"\n",
    "    values = df[col_name].values\n",
    "    \n",
    "    # Calcula ganhos/perdas\n",
    "    delta_values = values[1:] - values[:-1]\n",
    "    \n",
    "    # Vetor\n",
    "    n_rsi = len(values)-14\n",
    "    rsi_arr = np.zeros(n_rsi)\n",
    "    \n",
    "    # Faz primeiro calculo (medias dos primeiros 14 periodos), avalia RS(0) e RSI(0)\n",
    "    avg_gain = np.mean(np.maximum(delta_values[:14],0))\n",
    "    avg_loss = np.abs(np.mean(np.minimum(delta_values[:14],0)))\n",
    "    rsi_arr[0] = 100 - 100/(1 + avg_gain/max(avg_loss,1e-5))\n",
    "    \n",
    "    # Itera para calcular ganho_medio(t), perda_media(t), RS(t), RSI(t)\n",
    "    for i in np.arange(1, n_rsi):\n",
    "        avg_gain = (avg_gain*13 + max(delta_values[13+i],0)) / 14\n",
    "        avg_loss = (avg_loss*13 + np.abs(min(delta_values[13+i],0))) / 14\n",
    "        rsi_arr[i] = 100 - 100/(1 + avg_gain/max(avg_loss,1e-5))\n",
    "        \n",
    "    rsi = pd.DataFrame(data=rsi_arr, index=df.index[14:], columns=['RSI'])\n",
    "    return rsi"
   ]
  },
  {
   "cell_type": "code",
   "execution_count": null,
   "metadata": {},
   "outputs": [],
   "source": [
    "rsi = RSI(btc_data)"
   ]
  },
  {
   "cell_type": "code",
   "execution_count": null,
   "metadata": {},
   "outputs": [],
   "source": [
    "rsi_trace = go.Scatter(x=rsi.index, y=rsi['RSI'], name='RSI')"
   ]
  },
  {
   "cell_type": "code",
   "execution_count": null,
   "metadata": {},
   "outputs": [],
   "source": [
    "fig = tools.make_subplots(rows=2, cols=1, shared_xaxes=True)\n",
    "fig.append_trace(btc_price_trace, 1, 1)\n",
    "fig.append_trace(rsi_trace, 2, 1)\n",
    "fig.layout.update(title='Exemplo: RSI', legend=dict(orientation='h'))\n",
    "py.iplot(fig)"
   ]
  },
  {
   "cell_type": "markdown",
   "metadata": {},
   "source": [
    "<a id=\"RSI_Strategy\"></a>\n",
    "\n",
    "## <span style=\"color:red\">6.2.</span> RSI: Trading Strategy\n",
    "\n",
    "##### Fontes \n",
    "Foram utilizados os seguintes materiais de pesquisa :\n",
    "* https://www.investopedia.com/ask/answers/012015/how-do-i-use-relative-strength-index-rsi-create-forex-trading-strategy.asp\n",
    "* https://www.investopedia.com/ask/answers/012915/what-common-strategy-traders-implement-when-using-relative-strength-index-rsi.asp\n",
    "* http://www.humbletraders.com/rsi-indicator-trading-strategy/ \n",
    "* https://tradingsim.com/blog/relative-strength-index/\n",
    "* https://www.youtube.com/watch?v=NBS4xmUje74\n",
    "* https://www.netpicks.com/rsi-trading-facts/\n",
    "* https://www.youtube.com/watch?v=vQM15BQdqTA\n",
    "\n",
    "##### Entendimento \n",
    "* É um indicador que varia entre 0 e 100 que mede a ocilação/momentum para fornecer um indíce de *overbought*() e *oversold*. \n",
    "* *Overbought* é a situação que o preço está mais alto do que é justificados pela análise fundamentalista. Nesse caso mostra um exposição do titulo a uma reversão do preço.\n",
    "* *Oversold* é a situação onde o preço está demaseadamente baixo, e mostra uma grande tendência para subir.\n",
    "\n",
    "Uma análise básica que iremos fazer também é olhar o comportamento de crescimento e queda em relação ao indíce RSI."
   ]
  },
  {
   "cell_type": "code",
   "execution_count": null,
   "metadata": {
    "scrolled": true
   },
   "outputs": [],
   "source": [
    "change_price = btc_data.diff()[['Weighted Price']]\n",
    "change_sign = np.sign(change_price)\n",
    "btc_data_rsi = btc_data.assign(RSI = rsi, change_price = change_price, change_sign=change_sign).dropna()\n",
    "\n",
    "growth_btc_rsi = btc_data_rsi[btc_data_rsi.change_sign == 1.0]['RSI']\n",
    "short_btc_rsi =  btc_data_rsi[btc_data_rsi.change_sign == -1.0]['RSI']\n",
    "\n",
    "trace1 = go.Histogram(\n",
    "    x = growth_btc_rsi,\n",
    "    opacity=0.75,\n",
    "    name = 'Growing BTC'\n",
    ")\n",
    "trace2 = go.Histogram(\n",
    "    x = short_btc_rsi,\n",
    "    opacity=0.75,\n",
    "    name = 'Lowering BTC'\n",
    ")\n",
    "\n",
    "fig = go.Figure(data = [trace1, trace2], layout = go.Layout(barmode='overlay'))\n",
    "py.iplot(fig, filename='RSI')"
   ]
  },
  {
   "cell_type": "markdown",
   "metadata": {},
   "source": [
    "###### Estratégias Escolhidas \n",
    "Foram escolhidas 3 estratégias de teste :\n",
    "- 80/20 where 80 is overbought and 20 is oversold\n",
    "- 70/30 where 70 is overbought and 30 is oversold\n",
    "- 50/50 where more then 50 is overbought and less is oversold"
   ]
  },
  {
   "cell_type": "code",
   "execution_count": null,
   "metadata": {},
   "outputs": [],
   "source": [
    "def rsi_predict_80_20(rsi):\n",
    "    if(rsi >= 80.0):\n",
    "        return 1\n",
    "    if(rsi <= 20.0):\n",
    "        return -1\n",
    "    return 0\n",
    "    \n",
    "def rsi_predict_70_30(rsi):\n",
    "    if(rsi >= 70.0):\n",
    "        return 1\n",
    "    if(rsi <= 30.0):\n",
    "        return -1\n",
    "    return 0\n",
    "\n",
    "def rsi_predict_50_50(rsi):\n",
    "    if(rsi >= 50.0):\n",
    "        return 1\n",
    "    return -1\n",
    "\n",
    "def rsi_predict(df, stategy = '80_20'):\n",
    "    if(stategy == '80_20'):\n",
    "        result = df['rsi'].apply(rsi_predict_80_20 )\n",
    "    if(stategy == '70_30'):\n",
    "        result = df['rsi'].apply(rsi_predict_70_30)\n",
    "    if(stategy == '50_50'):\n",
    "        result = df['rsi'].apply(rsi_predict_50_50)\n",
    "    return result"
   ]
  },
  {
   "cell_type": "code",
   "execution_count": null,
   "metadata": {},
   "outputs": [],
   "source": [
    "btc_data_rsi = btc_data_rsi.assign( pred_80_20 = btc_data_rsi['RSI'].apply(rsi_predict_80_20) )\n",
    "btc_data_rsi = btc_data_rsi.assign( pred_70_30 = btc_data_rsi['RSI'].apply(rsi_predict_70_30) )\n",
    "btc_data_rsi = btc_data_rsi.assign( pred_50_50 = btc_data_rsi['RSI'].apply(rsi_predict_50_50) ).dropna()"
   ]
  },
  {
   "cell_type": "code",
   "execution_count": null,
   "metadata": {},
   "outputs": [],
   "source": [
    "print( 'Estatégia 80_20' )\n",
    "n_acertos = np.sum(btc_data_rsi['pred_80_20'] == btc_data_rsi['change_sign'])\n",
    "n_obs = btc_data_rsi.shape[0]\n",
    "n_obs_cor = np.sum( btc_data_rsi['pred_80_20'] != 0.0 )\n",
    "perc_acertos = 100 * ( n_acertos / n_obs)\n",
    "perc_acertos_cor = 100 *  ( n_acertos / n_obs_cor)\n",
    "print('Acertos = ', n_acertos )\n",
    "print('Porcentagem de Acertos Totais = ', perc_acertos )\n",
    "print('Porcentagem de Acertos Corrgidos = ', perc_acertos_cor )"
   ]
  },
  {
   "cell_type": "code",
   "execution_count": null,
   "metadata": {},
   "outputs": [],
   "source": [
    "print( 'Estatégia 70_30' )\n",
    "n_acertos = np.sum(btc_data_rsi['pred_70_30'] == btc_data_rsi['change_sign'])\n",
    "n_obs = btc_data_rsi.shape[0]\n",
    "n_obs_cor = np.sum( btc_data_rsi['pred_70_30'] != 0.0 )\n",
    "perc_acertos = 100 * ( n_acertos / n_obs)\n",
    "perc_acertos_cor = 100 *  ( n_acertos / n_obs_cor)\n",
    "print('Acertos = ', n_acertos )\n",
    "print('Porcentagem de Acertos Totais = ', perc_acertos )\n",
    "print('Porcentagem de Acertos Corrgidos = ', perc_acertos_cor )"
   ]
  },
  {
   "cell_type": "code",
   "execution_count": null,
   "metadata": {},
   "outputs": [],
   "source": [
    "print( 'Estatégia 50_50' )\n",
    "n_acertos = np.sum(btc_data_rsi['pred_50_50'] == btc_data_rsi['change_sign'])\n",
    "n_obs = btc_data_rsi.shape[0]\n",
    "n_obs_cor = np.sum( btc_data_rsi['pred_50_50'] != 0.0 )\n",
    "perc_acertos = 100 * ( n_acertos / n_obs)\n",
    "perc_acertos_cor = 100 *  ( n_acertos / n_obs_cor)\n",
    "print('Acertos = ', n_acertos )\n",
    "print('Porcentagem de Acertos Totais = ', perc_acertos )\n",
    "print('Porcentagem de Acertos Corrgidos = ', perc_acertos_cor )"
   ]
  },
  {
   "cell_type": "markdown",
   "metadata": {},
   "source": [
    "<a id=\"CHAIKIN\"></a>\n",
    "\n",
    "## <span style=\"color:red\">7.1.</span> CHAIKIN: Chaikin Oscillator\n",
    "\n",
    "Fontes:\n",
    "- http://stockcharts.com/school/doku.php?id=chart_school:technical_indicators:accumulation_distribution_line\n",
    "- https://www.investopedia.com/university/indicator_oscillator/ind_osc3.asp"
   ]
  },
  {
   "cell_type": "code",
   "execution_count": null,
   "metadata": {},
   "outputs": [],
   "source": [
    "def CHAIKIN(df, col_names={'Close':'Close','Low':'Low','High':'High','Volume':'Volume (BTC)'}):\n",
    "    \"\"\"Calcula a Accumulation Distribution Line.\n",
    "\n",
    "    Keyword arguments:\n",
    "    df -- DataFrame com colunas de 'Close', 'Low', 'High' e 'Volume'\n",
    "    col_names -- Dicionario com nomes das colunas com High/Low/Close (default:'High'/'Low'/'Close')\n",
    "    \"\"\"\n",
    "    # Money flow multiplier\n",
    "    mfm = ((df[col_names['Close']]-df[col_names['Low']])-(df[col_names['High']]-df[col_names['Close']])) / \\\n",
    "            np.maximum((df[col_names['High']]-df[col_names['Low']]),1e-5) \n",
    "    \n",
    "    # Money flow volume\n",
    "    mfv = mfm * df[col_names['Volume']] # money flow volume\n",
    "    \n",
    "    # A/D Line\n",
    "    adl_arr = mfv.cumsum()\n",
    "    \n",
    "    # Chaikin Oscillator\n",
    "    chaikin_arr = EMA(adl_arr, 3)[7:] - EMA(adl_arr,10)\n",
    "    chaikin = pd.DataFrame(data=chaikin_arr, index=df.index[9:], columns=['CHAIKIN'])\n",
    "    \n",
    "    return chaikin"
   ]
  },
  {
   "cell_type": "code",
   "execution_count": null,
   "metadata": {},
   "outputs": [],
   "source": [
    "chaikin = CHAIKIN(btc_data)"
   ]
  },
  {
   "cell_type": "code",
   "execution_count": null,
   "metadata": {},
   "outputs": [],
   "source": [
    "chaikin_trace = go.Scatter(x=chaikin.index, y=chaikin['CHAIKIN'], name='CHAIKIN')"
   ]
  },
  {
   "cell_type": "code",
   "execution_count": null,
   "metadata": {},
   "outputs": [],
   "source": [
    "fig = tools.make_subplots(rows=2, cols=1, shared_xaxes=True)\n",
    "fig.append_trace(btc_candlestick_trace, 1, 1)\n",
    "fig.append_trace(chaikin_trace, 2, 1)\n",
    "fig['layout']['xaxis1'].update(rangeslider = dict(visible=False))\n",
    "fig.layout.update(title='Exemplo: CHAIKIN', legend=dict(orientation='h'), height=600)\n",
    "py.iplot(fig)"
   ]
  },
  {
   "cell_type": "markdown",
   "metadata": {},
   "source": [
    "<a id=\"CHAIKIN_Strategy\"></a>\n",
    "\n",
    "## <span style=\"color:red\">7.2.</span> CHAIKIN: Trading Strategy\n",
    "\n",
    "- buy/sell when it crosses zero line\n",
    "\n",
    "Segundo gráfico da seção 7.1 é o oscilador. Toda vez que ele passar de < 0 (negativo) para > 0 (positivo): compra. E se for de > 0 (positivo) para < 0 (negativo): vende. Período de latência: após cruzar o 0, aguardar X dias para ver se vai \"confirmar\" a tendência."
   ]
  },
  {
   "cell_type": "code",
   "execution_count": null,
   "metadata": {},
   "outputs": [],
   "source": [
    "sign = np.sign(chaikin)\n",
    "delta = sign.diff().dropna()\n",
    "chaikin_full = chaikin.assign(Sign = sign, Delta = delta, Predict = delta).dropna()"
   ]
  },
  {
   "cell_type": "code",
   "execution_count": null,
   "metadata": {},
   "outputs": [],
   "source": [
    "def pred_Chaikin(chaikin_full):\n",
    "    for i in range(chaikin_full.shape[0]):\n",
    "        if (chaikin_full.iloc[i]['Delta'] == 0):\n",
    "            chaikin_full['Predict'][i] = chaikin_full.iloc[i]['Sign']\n",
    "        elif (chaikin_full.iloc[i]['Delta'] == 2):\n",
    "            chaikin_full['Predict'][i] = 1\n",
    "        elif (chaikin_full.iloc[i]['Delta'] == -2):\n",
    "            chaikin_full['Predict'][i] = -1\n",
    "    return chaikin_full\n",
    "chaikin_full = pred_Chaikin(chaikin_full)"
   ]
  },
  {
   "cell_type": "code",
   "execution_count": null,
   "metadata": {},
   "outputs": [],
   "source": [
    "change_price = btc_data.diff()['Weighted Price'].dropna()\n",
    "change_sign = np.sign(change_price)\n",
    "btc_data_chaikin = btc_data.assign(ChangeSign = change_sign, Predict = chaikin_full['Predict']).dropna()\n",
    "temp = btc_data_chaikin['ChangeSign'] == btc_data_chaikin['Predict']\n",
    "print('Acertos: {:0.2f}%'.format(100*np.mean(temp)))"
   ]
  },
  {
   "cell_type": "markdown",
   "metadata": {},
   "source": [
    "<a id=\"AROON\"></a>\n",
    "\n",
    "## <span style=\"color:red\">8.1.</span> AROON: Aroon Indicator/Oscillator\n",
    "\n",
    "Fontes:\n",
    "- http://stockcharts.com/school/doku.php?id=chart_school:technical_indicators:aroon_oscillator\n",
    "- https://www.investopedia.com/university/indicator_oscillator/ind_osc5.asp"
   ]
  },
  {
   "cell_type": "code",
   "execution_count": null,
   "metadata": {},
   "outputs": [],
   "source": [
    "def AROON(df, col_names={'Low':'Low', 'High':'High'}):\n",
    "    \"\"\"Calcula a Accumulation Distribution Line.\n",
    "\n",
    "    Keyword arguments:\n",
    "    df -- DataFrame com colunas 'Low' e 'High'\n",
    "    col_names -- Dicionario com nomes das colunas com High/Low(default:'High'/'Low')\n",
    "    \"\"\"\n",
    "    # Aroon Up = 100 x (25 - Days Since 25-day High)/25\n",
    "    # Aroon Down = 100 x (25 - Days Since 25-day Low)/25\n",
    "    # Aroon Oscillator = Aroon-Up  -  Aroon-Down\n",
    "    t = 25\n",
    "    aroon_up = np.zeros(len(df)-t+1)\n",
    "    aroon_down = np.zeros(len(df)-t+1)\n",
    "    for i in np.arange(t,len(df)+1):\n",
    "        aroon_up[i-t] = 100 * (t-df[col_names['High']].values[i-t:i+1].argmax()) / t\n",
    "        aroon_down[i-t] = 100 * (t-df[col_names['Low']].values[i-t:i+1].argmin()) / t\n",
    "    aroon_dict = {'Aroon-Up': aroon_up, 'Aroon-Down': aroon_down, 'Aroon-Osc':(aroon_up-aroon_down)}\n",
    "    aroon = pd.DataFrame(data=aroon_dict, index=df.index[t-1:])\n",
    "    return aroon"
   ]
  },
  {
   "cell_type": "code",
   "execution_count": null,
   "metadata": {},
   "outputs": [],
   "source": [
    "aroon = AROON(btc_data)"
   ]
  },
  {
   "cell_type": "code",
   "execution_count": null,
   "metadata": {},
   "outputs": [],
   "source": [
    "aroon_down_trace = go.Scatter(x=aroon.index, y=-aroon['Aroon-Down'], name='Aroon-Down')\n",
    "aroon_up_trace = go.Scatter(x=aroon.index, y=aroon['Aroon-Up'], name='Aroon-Up')\n",
    "aroon_osc_trace = go.Scatter(x=aroon.index, y=aroon['Aroon-Osc'], name='Aroon-Osc')"
   ]
  },
  {
   "cell_type": "code",
   "execution_count": null,
   "metadata": {},
   "outputs": [],
   "source": [
    "fig = tools.make_subplots(rows=2, cols=1, shared_xaxes=True)\n",
    "fig.append_trace(btc_candlestick_trace, 1, 1)\n",
    "fig.append_trace(aroon_down_trace, 2, 1)\n",
    "fig.append_trace(aroon_up_trace, 2, 1)\n",
    "fig.append_trace(aroon_osc_trace, 2, 1)\n",
    "fig.layout.update(title='Exemplo: AROON', legend=dict(orientation='v'), height=600)\n",
    "fig['layout']['xaxis1']['rangeselector'] = default_candle_layout['xaxis']['rangeselector']\n",
    "py.iplot(fig)"
   ]
  },
  {
   "cell_type": "markdown",
   "metadata": {},
   "source": [
    "<a id=\"AROON_Strategy\"></a>\n",
    "\n",
    "## <span style=\"color:red\">8.2.</span> AROON: Trading Strategy\n",
    "\n",
    "- buy/sell above/below +x/-x (30,50,70...)\n",
    "\n",
    "Pega o segundo gráfico da Seção 8.1 e isola o oscilador. Exclui o Aroon Up e o Aroon Down. Toda vez que o oscilador estiver acima de +X, você compra. Quando estiver abaixo de -X, você vende. "
   ]
  },
  {
   "cell_type": "code",
   "execution_count": null,
   "metadata": {},
   "outputs": [],
   "source": [
    "change_price = btc_data.diff()[['Weighted Price']].dropna()\n",
    "change_sign = np.sign(change_price)\n",
    "btc_data_aroon = btc_data.assign(change_sign = change_sign).dropna()\n",
    "\n",
    "def pred_Aroon(aroon):\n",
    "    pos = (aroon['Aroon-Osc'] >= 70.0)\n",
    "    neg = -1.0*(aroon['Aroon-Osc'] <= -70.0)    \n",
    "    return pos + neg"
   ]
  },
  {
   "cell_type": "code",
   "execution_count": null,
   "metadata": {},
   "outputs": [],
   "source": [
    "pred = pred_Aroon(aroon)\n",
    "pos = 1\n",
    "for i in pred.index:\n",
    "    if pred[i] == 0:\n",
    "        pred[i] = pos\n",
    "    elif pred[i] == -pos:\n",
    "        pos = -pos\n",
    "btc_data_aroon['predict'] = pred\n",
    "temp = btc_data_aroon['change_sign'] == btc_data_aroon['predict']\n",
    "print('Acertos: {:0.2f}%'.format(100*np.mean(temp)))"
   ]
  }
 ],
 "metadata": {
  "kernelspec": {
   "display_name": "Python [conda env:crypto-env]",
   "language": "python",
   "name": "conda-env-crypto-env-py"
  },
  "language_info": {
   "codemirror_mode": {
    "name": "ipython",
    "version": 3
   },
   "file_extension": ".py",
   "mimetype": "text/x-python",
   "name": "python",
   "nbconvert_exporter": "python",
   "pygments_lexer": "ipython3",
   "version": "3.6.4"
  }
 },
 "nbformat": 4,
 "nbformat_minor": 2
}
