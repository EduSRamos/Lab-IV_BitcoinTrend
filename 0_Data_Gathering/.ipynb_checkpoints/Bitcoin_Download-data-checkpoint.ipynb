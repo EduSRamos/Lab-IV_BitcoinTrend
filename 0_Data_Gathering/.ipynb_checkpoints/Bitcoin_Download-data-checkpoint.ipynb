{
 "cells": [
  {
   "cell_type": "markdown",
   "metadata": {},
   "source": [
    "# Download do market price do Bitcoin\n",
    "\n",
    "### Data: 10/04/2018\n",
    "\n",
    "## Metodologia\n",
    "\n",
    "1. Baixar dados de 4 exchanges do *Quandl*\n",
    "2. Unir dados em um data frame\n",
    "    1. Tratar dados\n",
    "    2. Salvar/atualizar\n",
    "3. Calcular a media global entre eles\n",
    "\n",
    "## Outras APIs\n",
    "- coinapi.io\n",
    "\n",
    "### Fontes:\n",
    "- https://blog.patricktriest.com/analyzing-cryptocurrencies-python/\n",
    "- https://plot.ly/python/candlestick-charts/"
   ]
  },
  {
   "cell_type": "code",
   "execution_count": 1,
   "metadata": {},
   "outputs": [
    {
     "ename": "ImportError",
     "evalue": "No module named quandl",
     "output_type": "error",
     "traceback": [
      "\u001b[0;31m---------------------------------------------------------------------------\u001b[0m",
      "\u001b[0;31mImportError\u001b[0m                               Traceback (most recent call last)",
      "\u001b[0;32m<ipython-input-1-1d3d91b661bc>\u001b[0m in \u001b[0;36m<module>\u001b[0;34m()\u001b[0m\n\u001b[1;32m      5\u001b[0m \u001b[0;32mfrom\u001b[0m \u001b[0mdatetime\u001b[0m \u001b[0;32mimport\u001b[0m \u001b[0mdatetime\u001b[0m\u001b[0;34m\u001b[0m\u001b[0m\n\u001b[1;32m      6\u001b[0m \u001b[0;34m\u001b[0m\u001b[0m\n\u001b[0;32m----> 7\u001b[0;31m \u001b[0;32mimport\u001b[0m \u001b[0mquandl\u001b[0m\u001b[0;34m\u001b[0m\u001b[0m\n\u001b[0m\u001b[1;32m      8\u001b[0m \u001b[0;34m\u001b[0m\u001b[0m\n\u001b[1;32m      9\u001b[0m \u001b[0;32mimport\u001b[0m \u001b[0mplotly\u001b[0m\u001b[0;34m.\u001b[0m\u001b[0moffline\u001b[0m \u001b[0;32mas\u001b[0m \u001b[0mpy\u001b[0m\u001b[0;34m\u001b[0m\u001b[0m\n",
      "\u001b[0;31mImportError\u001b[0m: No module named quandl"
     ]
    }
   ],
   "source": [
    "import os\n",
    "import numpy as np\n",
    "import pandas as pd\n",
    "import pickle # for serializing and de-serializing a Python object structure.\n",
    "from datetime import datetime\n",
    "\n",
    "import quandl\n",
    "\n",
    "import plotly.offline as py\n",
    "import plotly.graph_objs as go\n",
    "import plotly.figure_factory as ff\n",
    "py.init_notebook_mode(connected=True)"
   ]
  },
  {
   "cell_type": "markdown",
   "metadata": {},
   "source": [
    "## Funcao auxiliar para fazer download dos dados"
   ]
  },
  {
   "cell_type": "code",
   "execution_count": null,
   "metadata": {},
   "outputs": [],
   "source": [
    "def get_quandl_data(quandl_id):\n",
    "    '''Download and save Quandl dataseries'''\n",
    "    save_path = '{}.pkl'.format(quandl_id).replace('/','-')\n",
    "    try:\n",
    "        f = open(save_path, 'rb')\n",
    "        df = pickle.load(f)   \n",
    "        print('Loaded {} from cache'.format(quandl_id))\n",
    "    except (OSError, IOError) as e:\n",
    "        print('Downloading {} from Quandl'.format(quandl_id))\n",
    "        df = quandl.get(quandl_id, returns=\"pandas\")\n",
    "        df.to_pickle(save_path)\n",
    "        print('Cached {} at {}'.format(quandl_id, save_path))\n",
    "    return df"
   ]
  },
  {
   "cell_type": "code",
   "execution_count": null,
   "metadata": {},
   "outputs": [],
   "source": [
    "exchanges = ['KRAKEN','COINBASE','BITSTAMP','ITBIT']\n",
    "\n",
    "exchange_data = {}\n",
    "\n",
    "for exchange in exchanges:\n",
    "    exchange_code = 'BCHARTS/{}USD'.format(exchange)\n",
    "    btc_exchange_df = get_quandl_data(exchange_code)\n",
    "    exchange_data[exchange] = btc_exchange_df"
   ]
  },
  {
   "cell_type": "markdown",
   "metadata": {},
   "source": [
    "## Dictionary de Data Frames"
   ]
  },
  {
   "cell_type": "code",
   "execution_count": null,
   "metadata": {},
   "outputs": [],
   "source": [
    "print(type(exchange_data),'\\n')\n",
    "print(exchange_data['KRAKEN'].head())"
   ]
  },
  {
   "cell_type": "markdown",
   "metadata": {},
   "source": [
    "## Media dos 'Weighted Prices'"
   ]
  },
  {
   "cell_type": "code",
   "execution_count": null,
   "metadata": {},
   "outputs": [],
   "source": [
    "def merge_dfs_on_column(dataframes, labels, col):\n",
    "    '''Merge a single column of each dataframe into a new combined dataframe'''\n",
    "    series_dict = {}\n",
    "    for index in range(len(dataframes)):\n",
    "        series_dict[labels[index]] = dataframes[index][col] # eles tem tamanho diferente, mas sao completados\n",
    "        \n",
    "    return pd.DataFrame(series_dict)"
   ]
  },
  {
   "cell_type": "code",
   "execution_count": null,
   "metadata": {},
   "outputs": [],
   "source": [
    "print(exchange_data.keys(), '\\n')\n",
    "exchanges_list = list(exchange_data.values()) # lista de data frames\n",
    "print('Tipo de dados de \"exchange_list\": ' + str(type(exchanges_list)), '\\n')\n",
    "print('Tipo de dados do primeiro elemento de \"exchange_list\": ' + str(type(exchanges_list[0])), '\\n') # 1a exchange\n",
    "print(exchanges_list[0].Open[0]) # Primeiro valor de abertura da primeira exchange\n",
    "print(exchanges_list[0][\"High\"].head())\n",
    "exchanges_list[0].head() # Primeiros itens da primeira exchange"
   ]
  },
  {
   "cell_type": "code",
   "execution_count": null,
   "metadata": {},
   "outputs": [],
   "source": [
    "btc_usd_datasets = merge_dfs_on_column(list(exchange_data.values()), list(exchange_data.keys()), 'Weighted Price')"
   ]
  },
  {
   "cell_type": "code",
   "execution_count": null,
   "metadata": {},
   "outputs": [],
   "source": [
    "btc_usd_datasets.tail(7)"
   ]
  },
  {
   "cell_type": "code",
   "execution_count": null,
   "metadata": {},
   "outputs": [],
   "source": [
    "def df_scatter(df, title, seperate_y_axis=False, y_axis_label='', scale='linear', initial_hide=False):\n",
    "    '''Generate a scatter plot of the entire dataframe'''\n",
    "    label_arr = list(df) # lista os nomes das colunas (neste caso, nomes das exchanges)\n",
    "    series_arr = list(map(lambda col: df[col], label_arr))\n",
    "    \n",
    "    layout = go.Layout(\n",
    "        title=title,\n",
    "        legend=dict(orientation=\"h\"),\n",
    "        xaxis=dict(type='date'),\n",
    "        yaxis=dict(\n",
    "            title=y_axis_label,\n",
    "            showticklabels= not seperate_y_axis,\n",
    "            type=scale\n",
    "        )\n",
    "    )\n",
    "    \n",
    "    y_axis_config = dict(\n",
    "        overlaying='y',\n",
    "        showticklabels=False,\n",
    "        type=scale )\n",
    "    \n",
    "    visibility = 'visible'\n",
    "    if initial_hide:\n",
    "        visibility = 'legendonly'\n",
    "        \n",
    "    # Form Trace For Each Series\n",
    "    # Enumerate allows us to loop over something and have an automatic counter.\n",
    "    trace_arr = []\n",
    "    for index, series in enumerate(series_arr):\n",
    "        # index = [0, 1, 2, 3]\n",
    "        # series = pandas's Series\n",
    "        # series.index = indices used to access data in the Series\n",
    "        trace = go.Scatter(\n",
    "            x=series.index, \n",
    "            y=series, \n",
    "            name=label_arr[index],\n",
    "            visible=visibility\n",
    "        )\n",
    "        \n",
    "        # Add seperate axis for the series\n",
    "        if seperate_y_axis:\n",
    "            trace['yaxis'] = 'y{}'.format(index + 1)\n",
    "            layout['yaxis{}'.format(index + 1)] = y_axis_config    \n",
    "        trace_arr.append(trace)\n",
    "\n",
    "    fig = go.Figure(data=trace_arr, layout=layout)\n",
    "    py.iplot(fig)"
   ]
  },
  {
   "cell_type": "code",
   "execution_count": null,
   "metadata": {},
   "outputs": [],
   "source": [
    "# Plot all of the BTC exchange prices\n",
    "df_scatter(btc_usd_datasets, 'Bitcoin Price (USD) By Exchange')"
   ]
  },
  {
   "cell_type": "code",
   "execution_count": null,
   "metadata": {},
   "outputs": [],
   "source": [
    "# Remove \"0\" values\n",
    "btc_usd_datasets.replace(to_replace=0, value=np.nan, inplace=True)"
   ]
  },
  {
   "cell_type": "code",
   "execution_count": null,
   "metadata": {},
   "outputs": [],
   "source": [
    "# Plot the revised dataframe\n",
    "df_scatter(btc_usd_datasets[['ITBIT','KRAKEN']], 'Bitcoin Price (USD) By Exchange')"
   ]
  },
  {
   "cell_type": "code",
   "execution_count": null,
   "metadata": {},
   "outputs": [],
   "source": [
    "# Calculate the average BTC price as a new column\n",
    "avg_btc_price_usd = btc_usd_datasets.mean(axis=1)"
   ]
  },
  {
   "cell_type": "code",
   "execution_count": null,
   "metadata": {},
   "outputs": [],
   "source": [
    "avg_btc_price_usd"
   ]
  },
  {
   "cell_type": "code",
   "execution_count": null,
   "metadata": {},
   "outputs": [],
   "source": [
    "btc_trace = go.Scatter(x=avg_btc_price_usd.index, y=avg_btc_price_usd)\n",
    "py.iplot([btc_trace])"
   ]
  },
  {
   "cell_type": "code",
   "execution_count": null,
   "metadata": {},
   "outputs": [],
   "source": [
    "avg_btc_price_usd.index[avg_btc_price_usd.isnull()]"
   ]
  },
  {
   "cell_type": "code",
   "execution_count": null,
   "metadata": {},
   "outputs": [],
   "source": [
    "btc_price_usd = avg_btc_price_usd.loc['2012-01-01':]"
   ]
  },
  {
   "cell_type": "code",
   "execution_count": null,
   "metadata": {},
   "outputs": [],
   "source": [
    "btc_trace = go.Scatter(x=btc_price_usd.index, y=btc_price_usd) # btc_trace e' tipo um dicionario\n",
    "py.iplot([btc_trace])"
   ]
  },
  {
   "cell_type": "code",
   "execution_count": null,
   "metadata": {},
   "outputs": [],
   "source": [
    "save_path = '../Data/Bitcoin_price_daily.pkl'\n",
    "btc_price_usd.to_pickle(save_path)"
   ]
  },
  {
   "cell_type": "markdown",
   "metadata": {},
   "source": [
    "Medias dos demais valores\n",
    "----\n",
    "IMPORTANTE - exchange \"imaginaria\":\n",
    "- Os volumes sao somados, e os demais valores averaged, i.e., todas as exchanges tem peso igual"
   ]
  },
  {
   "cell_type": "code",
   "execution_count": null,
   "metadata": {},
   "outputs": [],
   "source": [
    "exchange_data['BITSTAMP']"
   ]
  },
  {
   "cell_type": "code",
   "execution_count": null,
   "metadata": {},
   "outputs": [],
   "source": [
    "def mergewithfunction(exchanges_dict, function_dict):\n",
    "    '''Une os indices <function_dict.keys> das exchanges de acordo com as funcoes <function_dict.values> '''\n",
    "    \n",
    "    dict_joined_indices = {} # dicionario dos indices agregados das exchanges\n",
    "    for market_index_name in function_dict.keys(): # para cada indice do mercado, e.g., high, low, volume, etc\n",
    "        dict_index_exchange = {}\n",
    "        for exchange_name in exchanges_dict.keys(): # para cada exchange, e.g., COINBASE, KRAKEN, etc\n",
    "            dict_index_exchange[exchange_name] = exchanges_dict[exchange_name][market_index_name]\n",
    "        market_index_df = pd.DataFrame(data = dict_index_exchange)\n",
    "        dict_joined_indices[market_index_name] = market_index_df.apply(function_dict[market_index_name], axis=1)\n",
    "    market_df = pd.DataFrame(data = dict_joined_indices)\n",
    "    return market_df"
   ]
  },
  {
   "cell_type": "code",
   "execution_count": null,
   "metadata": {},
   "outputs": [],
   "source": [
    "index_func_dict = {\n",
    "    'Open': np.mean,\n",
    "    'High': np.mean, \n",
    "    'Low': np.mean, \n",
    "    'Close': np.mean,\n",
    "    'Volume (BTC)': np.sum, \n",
    "    'Volume (Currency)': np.sum,\n",
    "    'Weighted Price': np.mean\n",
    "}\n",
    "bitcoin_data = mergewithfunction(exchange_data, index_func_dict)"
   ]
  },
  {
   "cell_type": "code",
   "execution_count": null,
   "metadata": {},
   "outputs": [],
   "source": [
    "bitcoin_data = bitcoin_data.loc['2012-01-01':]"
   ]
  },
  {
   "cell_type": "code",
   "execution_count": null,
   "metadata": {},
   "outputs": [],
   "source": [
    "save_path = '../Data/Bitcoin_data.pkl'\n",
    "bitcoin_data.to_pickle(save_path)"
   ]
  },
  {
   "cell_type": "code",
   "execution_count": null,
   "metadata": {},
   "outputs": [],
   "source": [
    "bitcoin_data"
   ]
  },
  {
   "cell_type": "code",
   "execution_count": null,
   "metadata": {},
   "outputs": [],
   "source": [
    "btc_open_trace = go.Scatter(x=bitcoin_data.index, y=bitcoin_data['Open'], name='Open')\n",
    "btc_high_trace = go.Scatter(x=bitcoin_data.index, y=bitcoin_data['High'], name='High')\n",
    "btc_low_trace = go.Scatter(x=bitcoin_data.index, y=bitcoin_data['Low'], name='Low')\n",
    "btc_close_trace = go.Scatter(x=bitcoin_data.index, y=bitcoin_data['Close'], name='Close')\n",
    "btc_volbtc_trace = go.Scatter(x=bitcoin_data.index, y=bitcoin_data['Volume (BTC)'], name='Volume (BTC)')\n",
    "btc_volcur_trace = go.Scatter(x=bitcoin_data.index, y=bitcoin_data['Volume (Currency)'], name='Volume (Currency)')\n",
    "btc_price_trace = go.Scatter(x=bitcoin_data.index, y=bitcoin_data['Weighted Price'], name='Weighted Price')"
   ]
  },
  {
   "cell_type": "code",
   "execution_count": null,
   "metadata": {
    "scrolled": false
   },
   "outputs": [],
   "source": [
    "from plotly import tools\n",
    "# layout = go.Layout(\n",
    "#     title='Bitcoin Data',\n",
    "#     legend=dict(orientation='h'),\n",
    "#     xaxis=dict(\n",
    "#         title='Data',\n",
    "#         titlefont=dict(\n",
    "#             family='Courier New, monospace',\n",
    "#             size=18,\n",
    "#             color='#7f7f7f'\n",
    "#         )\n",
    "#     ),\n",
    "#     yaxis=dict(\n",
    "#         title='Preco',\n",
    "#         titlefont=dict(\n",
    "#             family='Courier New, monospace',\n",
    "#             size=18,\n",
    "#             color='#7f7f7f'\n",
    "#         )\n",
    "#     )\n",
    "# )\n",
    "fig = tools.make_subplots(rows=3, cols=1)\n",
    "fig.append_trace(btc_open_trace, 1, 1)\n",
    "fig.append_trace(btc_high_trace, 1, 1)\n",
    "fig.append_trace(btc_low_trace, 1, 1)\n",
    "fig.append_trace(btc_close_trace, 1, 1)\n",
    "fig.append_trace(btc_price_trace, 1, 1)\n",
    "fig.append_trace(btc_volbtc_trace, 2, 1)\n",
    "fig.append_trace(btc_volcur_trace, 3, 1)\n",
    "fig.layout.update(title='Bitcoin Data', height=1000, legend=dict(orientation='h'))\n",
    "py.iplot(fig)"
   ]
  }
 ],
 "metadata": {
  "kernelspec": {
   "display_name": "Python [conda env:anaconda3]",
   "language": "python",
   "name": "conda-env-anaconda3-py"
  },
  "language_info": {
   "codemirror_mode": {
    "name": "ipython",
    "version": 2
   },
   "file_extension": ".py",
   "mimetype": "text/x-python",
   "name": "python",
   "nbconvert_exporter": "python",
   "pygments_lexer": "ipython2",
   "version": "2.7.14"
  }
 },
 "nbformat": 4,
 "nbformat_minor": 2
}
